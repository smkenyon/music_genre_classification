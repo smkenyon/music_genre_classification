{
 "cells": [
  {
   "cell_type": "markdown",
   "metadata": {},
   "source": [
    "## FMA CNN ##\n",
    "\n",
    "Let's start by once again loading the data for the fma_small dataset. We'll join the genres on this dataframe, and then classify on the files that are only included in this dataset."
   ]
  },
  {
   "cell_type": "code",
   "execution_count": 13,
   "metadata": {},
   "outputs": [
    {
     "data": {
      "text/html": [
       "<div>\n",
       "<style scoped>\n",
       "    .dataframe tbody tr th:only-of-type {\n",
       "        vertical-align: middle;\n",
       "    }\n",
       "\n",
       "    .dataframe tbody tr th {\n",
       "        vertical-align: top;\n",
       "    }\n",
       "\n",
       "    .dataframe thead th {\n",
       "        text-align: right;\n",
       "    }\n",
       "</style>\n",
       "<table border=\"1\" class=\"dataframe\">\n",
       "  <thead>\n",
       "    <tr style=\"text-align: right;\">\n",
       "      <th></th>\n",
       "      <th>ids</th>\n",
       "      <th>genre</th>\n",
       "    </tr>\n",
       "  </thead>\n",
       "  <tbody>\n",
       "    <tr>\n",
       "      <th>0</th>\n",
       "      <td>4849</td>\n",
       "      <td>International</td>\n",
       "    </tr>\n",
       "    <tr>\n",
       "      <th>0</th>\n",
       "      <td>2</td>\n",
       "      <td>Hip-Hop</td>\n",
       "    </tr>\n",
       "    <tr>\n",
       "      <th>0</th>\n",
       "      <td>43842</td>\n",
       "      <td>Folk</td>\n",
       "    </tr>\n",
       "    <tr>\n",
       "      <th>0</th>\n",
       "      <td>24745</td>\n",
       "      <td>International</td>\n",
       "    </tr>\n",
       "    <tr>\n",
       "      <th>0</th>\n",
       "      <td>31390</td>\n",
       "      <td>Folk</td>\n",
       "    </tr>\n",
       "  </tbody>\n",
       "</table>\n",
       "</div>"
      ],
      "text/plain": [
       "     ids          genre\n",
       "0   4849  International\n",
       "0      2        Hip-Hop\n",
       "0  43842           Folk\n",
       "0  24745  International\n",
       "0  31390           Folk"
      ]
     },
     "execution_count": 13,
     "metadata": {},
     "output_type": "execute_result"
    }
   ],
   "source": [
    "import pandas as pd\n",
    "dataMatrix = pd.read_csv(r'D:\\Analytics\\extracted_audio_features_fma_small_dataset.csv', index_col=0)\n",
    "genreMatrix = pd.read_csv(r'D:\\Analytics\\fma_clean_genres.csv', index_col=0)\n",
    "ids = [int(s.split(\"\\\\\")[-1][:-4]) for s in dataMatrix['names'].tolist()]\n",
    "dataMatrix['ids'] = ids\n",
    "merged = dataMatrix.join(genreMatrix.set_index('track id'), on='ids')\n",
    "tracks_and_genres = pd.concat([merged['ids'], merged['genre']], axis=1)\n",
    "tracks_and_genres.head()"
   ]
  },
  {
   "cell_type": "code",
   "execution_count": 14,
   "metadata": {},
   "outputs": [
    {
     "data": {
      "text/plain": [
       "Hip-Hop          1000\n",
       "Pop              1000\n",
       "Instrumental     1000\n",
       "Experimental      999\n",
       "Folk              999\n",
       "International     999\n",
       "Electronic        999\n",
       "Rock              999\n",
       "Name: genre, dtype: int64"
      ]
     },
     "execution_count": 14,
     "metadata": {},
     "output_type": "execute_result"
    }
   ],
   "source": [
    "tracks_and_genres['genre'] = pd.Categorical(merged.genre)\n",
    "merged.genre.value_counts()"
   ]
  },
  {
   "cell_type": "code",
   "execution_count": 15,
   "metadata": {},
   "outputs": [],
   "source": [
    "import os\n",
    "import matplotlib.pyplot as plt\n",
    "import numpy as np\n",
    "import cv2\n",
    "import pickle\n",
    "import tensorflow as tf"
   ]
  },
  {
   "cell_type": "code",
   "execution_count": 16,
   "metadata": {},
   "outputs": [],
   "source": [
    "spectrogram_dir = r'D:/Analytics/spectrograms_fma_small/'\n",
    "files = os.listdir(spectrogram_dir)"
   ]
  },
  {
   "cell_type": "code",
   "execution_count": 17,
   "metadata": {},
   "outputs": [
    {
     "name": "stdout",
     "output_type": "stream",
     "text": [
      "000002.png\n"
     ]
    }
   ],
   "source": [
    "# need to remove images from files that are not otherwise in the dataset\n",
    "print(files[0])"
   ]
  },
  {
   "cell_type": "code",
   "execution_count": 18,
   "metadata": {},
   "outputs": [],
   "source": [
    "images = [f for f in files if int(f[:-4]) in tracks_and_genres.ids.to_list()]"
   ]
  },
  {
   "cell_type": "code",
   "execution_count": 19,
   "metadata": {},
   "outputs": [
    {
     "data": {
      "text/plain": [
       "7995"
      ]
     },
     "execution_count": 19,
     "metadata": {},
     "output_type": "execute_result"
    }
   ],
   "source": [
    "len(images)"
   ]
  },
  {
   "cell_type": "markdown",
   "metadata": {},
   "source": [
    "## Partitioning Data into Train and Test sets ##\n",
    "We now have the class names for each image, and the list of images in our dataset. We'll do a 90-10 split between train and test. There will be some unequal weighting among the genres, but it should not be too great."
   ]
  },
  {
   "cell_type": "code",
   "execution_count": 20,
   "metadata": {},
   "outputs": [],
   "source": [
    "ordered_image_list = []\n",
    "for i in tracks_and_genres.ids.to_list():\n",
    "    for j in images:\n",
    "        if int(j[:-4]) == i:\n",
    "            ordered_image_list.append(j)"
   ]
  },
  {
   "cell_type": "code",
   "execution_count": 21,
   "metadata": {},
   "outputs": [
    {
     "data": {
      "text/plain": [
       "['004849.png',\n",
       " '000002.png',\n",
       " '043842.png',\n",
       " '024745.png',\n",
       " '031390.png',\n",
       " '011638.png',\n",
       " '038888.png',\n",
       " '015770.png',\n",
       " '005006.png',\n",
       " '000005.png']"
      ]
     },
     "execution_count": 21,
     "metadata": {},
     "output_type": "execute_result"
    }
   ],
   "source": [
    "ordered_image_list[:10]"
   ]
  },
  {
   "cell_type": "code",
   "execution_count": 22,
   "metadata": {},
   "outputs": [
    {
     "data": {
      "text/plain": [
       "7995"
      ]
     },
     "execution_count": 22,
     "metadata": {},
     "output_type": "execute_result"
    }
   ],
   "source": [
    "s = pd.Series(ordered_image_list, name='images')\n",
    "len(s)"
   ]
  },
  {
   "cell_type": "code",
   "execution_count": 23,
   "metadata": {},
   "outputs": [],
   "source": [
    "dataDict = {'ids': tracks_and_genres.ids, 'images': ordered_image_list, 'genre': tracks_and_genres.genre}"
   ]
  },
  {
   "cell_type": "code",
   "execution_count": 24,
   "metadata": {},
   "outputs": [
    {
     "data": {
      "text/html": [
       "<div>\n",
       "<style scoped>\n",
       "    .dataframe tbody tr th:only-of-type {\n",
       "        vertical-align: middle;\n",
       "    }\n",
       "\n",
       "    .dataframe tbody tr th {\n",
       "        vertical-align: top;\n",
       "    }\n",
       "\n",
       "    .dataframe thead th {\n",
       "        text-align: right;\n",
       "    }\n",
       "</style>\n",
       "<table border=\"1\" class=\"dataframe\">\n",
       "  <thead>\n",
       "    <tr style=\"text-align: right;\">\n",
       "      <th></th>\n",
       "      <th>ids</th>\n",
       "      <th>images</th>\n",
       "      <th>genre</th>\n",
       "    </tr>\n",
       "  </thead>\n",
       "  <tbody>\n",
       "    <tr>\n",
       "      <th>0</th>\n",
       "      <td>4849</td>\n",
       "      <td>004849.png</td>\n",
       "      <td>International</td>\n",
       "    </tr>\n",
       "    <tr>\n",
       "      <th>0</th>\n",
       "      <td>2</td>\n",
       "      <td>000002.png</td>\n",
       "      <td>Hip-Hop</td>\n",
       "    </tr>\n",
       "    <tr>\n",
       "      <th>0</th>\n",
       "      <td>43842</td>\n",
       "      <td>043842.png</td>\n",
       "      <td>Folk</td>\n",
       "    </tr>\n",
       "    <tr>\n",
       "      <th>0</th>\n",
       "      <td>24745</td>\n",
       "      <td>024745.png</td>\n",
       "      <td>International</td>\n",
       "    </tr>\n",
       "    <tr>\n",
       "      <th>0</th>\n",
       "      <td>31390</td>\n",
       "      <td>031390.png</td>\n",
       "      <td>Folk</td>\n",
       "    </tr>\n",
       "  </tbody>\n",
       "</table>\n",
       "</div>"
      ],
      "text/plain": [
       "     ids      images          genre\n",
       "0   4849  004849.png  International\n",
       "0      2  000002.png        Hip-Hop\n",
       "0  43842  043842.png           Folk\n",
       "0  24745  024745.png  International\n",
       "0  31390  031390.png           Folk"
      ]
     },
     "execution_count": 24,
     "metadata": {},
     "output_type": "execute_result"
    }
   ],
   "source": [
    "dataMatrix = pd.DataFrame(dataDict)\n",
    "dataMatrix.head()"
   ]
  },
  {
   "cell_type": "code",
   "execution_count": 33,
   "metadata": {},
   "outputs": [
    {
     "name": "stdout",
     "output_type": "stream",
     "text": [
      "(7995, 2)\n",
      "122166.png Experimental\n"
     ]
    }
   ],
   "source": [
    "data_array = np.array([ordered_image_list, tracks_and_genres.genre.to_list()]).transpose()\n",
    "print(np.shape(data_array))\n",
    "np.random.shuffle(data_array)\n",
    "print(data_array[0][0], data_array[0][1])"
   ]
  },
  {
   "cell_type": "code",
   "execution_count": 34,
   "metadata": {},
   "outputs": [],
   "source": [
    "train = data_array[:7195][:]\n",
    "test = data_array[7195:][:]"
   ]
  },
  {
   "cell_type": "markdown",
   "metadata": {},
   "source": [
    "## Loading Images and Pickling Data ##\n"
   ]
  },
  {
   "cell_type": "code",
   "execution_count": 35,
   "metadata": {},
   "outputs": [
    {
     "name": "stdout",
     "output_type": "stream",
     "text": [
      "122166.png\n"
     ]
    },
    {
     "data": {
      "image/png": "[encoded data removed]",
      "text/plain": [
       "<Figure size 432x288 with 1 Axes>"
      ]
     },
     "metadata": {
      "needs_background": "light"
     },
     "output_type": "display_data"
    },
    {
     "name": "stdout",
     "output_type": "stream",
     "text": [
      "Experimental\n"
     ]
    }
   ],
   "source": [
    "# perform some EDA on the spectrogram image data\n",
    "filename = train[0][0]\n",
    "genre = train[0][1]\n",
    "print(filename)\n",
    "image_array = cv2.imread(os.path.join(spectrogram_dir,filename), cv2.IMREAD_GRAYSCALE)  # greyscale shouldn't matter versus heatmap\n",
    "plt.imshow(image_array, cmap='magma')\n",
    "plt.show()\n",
    "print(genre)"
   ]
  },
  {
   "cell_type": "code",
   "execution_count": 36,
   "metadata": {},
   "outputs": [
    {
     "name": "stdout",
     "output_type": "stream",
     "text": [
      "(308, 930)\n"
     ]
    }
   ],
   "source": [
    "print(image_array.shape)"
   ]
  },
  {
   "cell_type": "code",
   "execution_count": 63,
   "metadata": {},
   "outputs": [],
   "source": [
    "# check to see if all images are of the same size\n",
    "shape = (308, 930)\n",
    "for file in train[:][0]:\n",
    "    image_array = cv2.imread(os.path.join(spectrogram_dir, filename), cv2.IMREAD_GRAYSCALE)\n",
    "    if image_array.shape != shape:\n",
    "        print('diff on: ', file)\n",
    "        break"
   ]
  },
  {
   "cell_type": "code",
   "execution_count": 64,
   "metadata": {},
   "outputs": [],
   "source": [
    "Xs = []\n",
    "Ys = [] # classifier\n",
    "for piece in train:\n",
    "    image_array = cv2.imread(os.path.join(spectrogram_dir, piece[0]), cv2.IMREAD_GRAYSCALE)\n",
    "    #image_array = cv2.resize(image_array, (250, 700))\n",
    "    Xs.append(image_array)\n",
    "    Ys.append(piece[1])"
   ]
  },
  {
   "cell_type": "code",
   "execution_count": 65,
   "metadata": {},
   "outputs": [],
   "source": [
    "Xs = np.array(Xs)\n",
    "Ys = np.array(Ys)"
   ]
  },
  {
   "cell_type": "code",
   "execution_count": 66,
   "metadata": {},
   "outputs": [
    {
     "name": "stdout",
     "output_type": "stream",
     "text": [
      "Directory already exists.\n"
     ]
    }
   ],
   "source": [
    "try:\n",
    "    os.mkdir('FMA_SMALL_PICKLE')\n",
    "except:\n",
    "    print(\"Directory already exists.\")\n",
    "with open('FMA_SMALL_PICKLE\\\\X.pickle', 'wb') as pickle_out:\n",
    "    pickle.dump(Xs, pickle_out)\n",
    "with open('FMA_SMALL_PICKLE\\\\Y.pickle', 'wb') as pickle_out:\n",
    "    pickle.dump(Ys, pickle_out)"
   ]
  },
  {
   "cell_type": "code",
   "execution_count": 4,
   "metadata": {},
   "outputs": [],
   "source": [
    "## if picking up when left off, uncomment the following to load ##\n",
    "\"\"\"\n",
    "with open('FMA_SMALL_PICKLE\\\\X.pickle','rb') as pickle_in:\n",
    "    Xs = pickle.load(pickle_in)\n",
    "with open('FMA_SMALL_PICKLE\\\\Y.pickle','rb') as pickle_in:\n",
    "    Ys = pickle.load(pickle_in)\n",
    "\"\"\""
   ]
  },
  {
   "cell_type": "markdown",
   "metadata": {},
   "source": [
    "## Training the CNN ##\n",
    "At this point we have everything we need to begin training the convolutional neural net. We'll be using Tensorflow for the remainder of the model building."
   ]
  },
  {
   "cell_type": "code",
   "execution_count": 67,
   "metadata": {},
   "outputs": [],
   "source": [
    "# tensorflow imports\n",
    "import tensorflow as tf\n",
    "from tensorflow.keras.preprocessing.image import ImageDataGenerator\n",
    "from tensorflow.keras.models import Sequential\n",
    "from tensorflow.keras.layers import Dense, Dropout, Activation, Flatten, Conv2D, MaxPool2D, BatchNormalization\n",
    "from tensorflow.keras.optimizers import Adam\n",
    "from tensorflow.keras.callbacks import LearningRateScheduler, EarlyStopping\n",
    "from tensorflow.keras import regularizers"
   ]
  },
  {
   "cell_type": "code",
   "execution_count": 87,
   "metadata": {},
   "outputs": [],
   "source": [
    "cnn_model = Sequential()\n",
    "cnn_model.add(Conv2D(input_shape = (308, 930, 1), filters = 2, kernel_size=(5,5), padding='Same', kernel_regularizer=regularizers.l2(0.001),\n",
    "                    activation='relu', strides=3))\n",
    "cnn_model.add(MaxPool2D(pool_size=(2,2)))\n",
    "cnn_model.add(BatchNormalization())\n",
    "cnn_model.add(Dropout(0.25))\n",
    "\n",
    "cnn_model.add(Conv2D(filters = 4, kernel_size=(5,5), padding='Same', activation='relu', strides=3))\n",
    "cnn_model.add(MaxPool2D(pool_size=(2,2)))\n",
    "cnn_model.add(BatchNormalization())\n",
    "cnn_model.add(Dropout(0.25))\n",
    "\n",
    "cnn_model.add(Flatten())\n",
    "cnn_model.add(Dense(64, activation='relu'))\n",
    "cnn_model.add(Dense(8, activation='softmax'))\n",
    "cnn_model.compile(loss='categorical_crossentropy', optimizer='adam', metrics=['accuracy'])"
   ]
  },
  {
   "cell_type": "code",
   "execution_count": 88,
   "metadata": {},
   "outputs": [
    {
     "data": {
      "text/plain": [
       "(7195, 8)"
      ]
     },
     "execution_count": 88,
     "metadata": {},
     "output_type": "execute_result"
    }
   ],
   "source": [
    "# Need to set Ys to categorical\n",
    "from sklearn import preprocessing\n",
    "from tensorflow.keras.utils import to_categorical\n",
    "encoder = preprocessing.LabelEncoder()\n",
    "encoder.fit(Ys)\n",
    "encoded_Y = encoder.transform(Ys)\n",
    "Ys_onehot = to_categorical(encoded_Y)\n",
    "Ys_onehot.shape"
   ]
  },
  {
   "cell_type": "code",
   "execution_count": 89,
   "metadata": {},
   "outputs": [],
   "source": [
    "ES = EarlyStopping(monitor='val_loss', min_delta=0, patience=2, verbose=1, mode='auto', baseline=None, restore_best_weights=False)\n",
    "MS = tf.keras.callbacks.ModelCheckpoint('fma.hdf5', monitor='val_loss', verbose=1, save_best_only=True, save_weights_only=False, mode='auto', save_freq='epoch')"
   ]
  },
  {
   "cell_type": "code",
   "execution_count": 90,
   "metadata": {
    "scrolled": true
   },
   "outputs": [
    {
     "name": "stdout",
     "output_type": "stream",
     "text": [
      "Train on 6475 samples, validate on 720 samples\n",
      "Epoch 1/30\n",
      "6460/6475 [============================>.] - ETA: 0s - loss: 2.0451 - accuracy: 0.2034\n",
      "Epoch 00001: val_loss improved from inf to 2.12922, saving model to fma.hdf5\n",
      "6475/6475 [==============================] - 6s 869us/sample - loss: 2.0444 - accuracy: 0.2037 - val_loss: 2.1292 - val_accuracy: 0.1681\n",
      "Epoch 2/30\n",
      "6400/6475 [============================>.] - ETA: 0s - loss: 1.9183 - accuracy: 0.2658\n",
      "Epoch 00002: val_loss improved from 2.12922 to 2.00363, saving model to fma.hdf5\n",
      "6475/6475 [==============================] - 5s 717us/sample - loss: 1.9194 - accuracy: 0.2655 - val_loss: 2.0036 - val_accuracy: 0.2222\n",
      "Epoch 3/30\n",
      "6390/6475 [============================>.] - ETA: 0s - loss: 1.8075 - accuracy: 0.3199\n",
      "Epoch 00003: val_loss improved from 2.00363 to 1.98852, saving model to fma.hdf5\n",
      "6475/6475 [==============================] - 5s 717us/sample - loss: 1.8078 - accuracy: 0.3192 - val_loss: 1.9885 - val_accuracy: 0.2597\n",
      "Epoch 4/30\n",
      "6470/6475 [============================>.] - ETA: 0s - loss: 1.7596 - accuracy: 0.3535\n",
      "Epoch 00004: val_loss improved from 1.98852 to 1.87337, saving model to fma.hdf5\n",
      "6475/6475 [==============================] - 5s 721us/sample - loss: 1.7595 - accuracy: 0.3535 - val_loss: 1.8734 - val_accuracy: 0.2931\n",
      "Epoch 5/30\n",
      "6430/6475 [============================>.] - ETA: 0s - loss: 1.7069 - accuracy: 0.3644\n",
      "Epoch 00005: val_loss did not improve from 1.87337\n",
      "6475/6475 [==============================] - 5s 717us/sample - loss: 1.7064 - accuracy: 0.3645 - val_loss: 1.9844 - val_accuracy: 0.2750\n",
      "Epoch 6/30\n",
      "6420/6475 [============================>.] - ETA: 0s - loss: 1.6782 - accuracy: 0.3832\n",
      "Epoch 00006: val_loss did not improve from 1.87337\n",
      "6475/6475 [==============================] - 5s 717us/sample - loss: 1.6768 - accuracy: 0.3841 - val_loss: 2.0060 - val_accuracy: 0.2569\n",
      "Epoch 7/30\n",
      "6420/6475 [============================>.] - ETA: 0s - loss: 1.6442 - accuracy: 0.4014\n",
      "Epoch 00007: val_loss did not improve from 1.87337\n",
      "6475/6475 [==============================] - 5s 715us/sample - loss: 1.6457 - accuracy: 0.4006 - val_loss: 2.8440 - val_accuracy: 0.2014\n",
      "Epoch 8/30\n",
      "6400/6475 [============================>.] - ETA: 0s - loss: 1.6243 - accuracy: 0.4052\n",
      "Epoch 00008: val_loss did not improve from 1.87337\n",
      "6475/6475 [==============================] - 5s 726us/sample - loss: 1.6258 - accuracy: 0.4046 - val_loss: 2.2613 - val_accuracy: 0.2472\n",
      "Epoch 9/30\n",
      "6430/6475 [============================>.] - ETA: 0s - loss: 1.6015 - accuracy: 0.4135\n",
      "Epoch 00009: val_loss did not improve from 1.87337\n",
      "6475/6475 [==============================] - 5s 714us/sample - loss: 1.6006 - accuracy: 0.4141 - val_loss: 2.1206 - val_accuracy: 0.2764\n",
      "Epoch 10/30\n",
      "6440/6475 [============================>.] - ETA: 0s - loss: 1.5777 - accuracy: 0.4320\n",
      "Epoch 00010: val_loss did not improve from 1.87337\n",
      "6475/6475 [==============================] - 5s 717us/sample - loss: 1.5794 - accuracy: 0.4309 - val_loss: 2.9173 - val_accuracy: 0.2181\n",
      "Epoch 11/30\n",
      "6440/6475 [============================>.] - ETA: 0s - loss: 1.5577 - accuracy: 0.4359\n",
      "Epoch 00011: val_loss did not improve from 1.87337\n",
      "6475/6475 [==============================] - 5s 709us/sample - loss: 1.5569 - accuracy: 0.4361 - val_loss: 2.0615 - val_accuracy: 0.2750\n",
      "Epoch 12/30\n",
      "6430/6475 [============================>.] - ETA: 0s - loss: 1.5382 - accuracy: 0.4439\n",
      "Epoch 00012: val_loss did not improve from 1.87337\n",
      "6475/6475 [==============================] - 5s 707us/sample - loss: 1.5377 - accuracy: 0.4439 - val_loss: 2.0177 - val_accuracy: 0.3083\n",
      "Epoch 13/30\n",
      "6420/6475 [============================>.] - ETA: 0s - loss: 1.5170 - accuracy: 0.4531\n",
      "Epoch 00013: val_loss did not improve from 1.87337\n",
      "6475/6475 [==============================] - 5s 709us/sample - loss: 1.5161 - accuracy: 0.4536 - val_loss: 1.9166 - val_accuracy: 0.3431\n",
      "Epoch 14/30\n",
      "6420/6475 [============================>.] - ETA: 0s - loss: 1.5023 - accuracy: 0.4547\n",
      "Epoch 00014: val_loss did not improve from 1.87337\n",
      "6475/6475 [==============================] - 5s 707us/sample - loss: 1.5027 - accuracy: 0.4550 - val_loss: 2.2799 - val_accuracy: 0.2514\n",
      "Epoch 15/30\n",
      "6440/6475 [============================>.] - ETA: 0s - loss: 1.4755 - accuracy: 0.4720\n",
      "Epoch 00015: val_loss did not improve from 1.87337\n",
      "6475/6475 [==============================] - 5s 707us/sample - loss: 1.4772 - accuracy: 0.4710 - val_loss: 2.2468 - val_accuracy: 0.2972\n",
      "Epoch 16/30\n",
      "6450/6475 [============================>.] - ETA: 0s - loss: 1.4504 - accuracy: 0.4764\n",
      "Epoch 00016: val_loss did not improve from 1.87337\n",
      "6475/6475 [==============================] - 5s 726us/sample - loss: 1.4511 - accuracy: 0.4760 - val_loss: 2.2292 - val_accuracy: 0.2528\n",
      "Epoch 17/30\n",
      "6470/6475 [============================>.] - ETA: 0s - loss: 1.4481 - accuracy: 0.4844\n",
      "Epoch 00017: val_loss did not improve from 1.87337\n",
      "6475/6475 [==============================] - 5s 714us/sample - loss: 1.4481 - accuracy: 0.4843 - val_loss: 2.4746 - val_accuracy: 0.2639\n",
      "Epoch 18/30\n",
      "6440/6475 [============================>.] - ETA: 0s - loss: 1.4357 - accuracy: 0.4795\n",
      "Epoch 00018: val_loss did not improve from 1.87337\n",
      "6475/6475 [==============================] - 5s 707us/sample - loss: 1.4362 - accuracy: 0.4798 - val_loss: 1.9204 - val_accuracy: 0.3347\n",
      "Epoch 19/30\n",
      "6450/6475 [============================>.] - ETA: 0s - loss: 1.4124 - accuracy: 0.4895\n",
      "Epoch 00019: val_loss did not improve from 1.87337\n",
      "6475/6475 [==============================] - 5s 707us/sample - loss: 1.4125 - accuracy: 0.4893 - val_loss: 2.0050 - val_accuracy: 0.3097\n",
      "Epoch 20/30\n",
      "6380/6475 [============================>.] - ETA: 0s - loss: 1.3917 - accuracy: 0.5011\n",
      "Epoch 00020: val_loss did not improve from 1.87337\n",
      "6475/6475 [==============================] - 5s 721us/sample - loss: 1.3934 - accuracy: 0.5015 - val_loss: 2.9332 - val_accuracy: 0.2181\n",
      "Epoch 21/30\n",
      "6460/6475 [============================>.] - ETA: 0s - loss: 1.3843 - accuracy: 0.5065\n",
      "Epoch 00021: val_loss did not improve from 1.87337\n",
      "6475/6475 [==============================] - 5s 714us/sample - loss: 1.3837 - accuracy: 0.5066 - val_loss: 2.4623 - val_accuracy: 0.2736\n",
      "Epoch 22/30\n",
      "6430/6475 [============================>.] - ETA: 0s - loss: 1.3659 - accuracy: 0.5109\n",
      "Epoch 00022: val_loss did not improve from 1.87337\n",
      "6475/6475 [==============================] - 5s 709us/sample - loss: 1.3653 - accuracy: 0.5109 - val_loss: 2.3308 - val_accuracy: 0.2958\n",
      "Epoch 23/30\n",
      "6450/6475 [============================>.] - ETA: 0s - loss: 1.3552 - accuracy: 0.5194\n",
      "Epoch 00023: val_loss did not improve from 1.87337\n",
      "6475/6475 [==============================] - 5s 717us/sample - loss: 1.3559 - accuracy: 0.5194 - val_loss: 2.4579 - val_accuracy: 0.2986\n",
      "Epoch 24/30\n",
      "6420/6475 [============================>.] - ETA: 0s - loss: 1.3443 - accuracy: 0.5162\n",
      "Epoch 00024: val_loss did not improve from 1.87337\n",
      "6475/6475 [==============================] - 5s 717us/sample - loss: 1.3420 - accuracy: 0.5171 - val_loss: 2.2259 - val_accuracy: 0.3083\n",
      "Epoch 25/30\n",
      "6400/6475 [============================>.] - ETA: 0s - loss: 1.3199 - accuracy: 0.5288\n",
      "Epoch 00025: val_loss did not improve from 1.87337\n",
      "6475/6475 [==============================] - 5s 712us/sample - loss: 1.3195 - accuracy: 0.5288 - val_loss: 2.5800 - val_accuracy: 0.2639\n",
      "Epoch 26/30\n",
      "6390/6475 [============================>.] - ETA: 0s - loss: 1.3132 - accuracy: 0.5279\n",
      "Epoch 00026: val_loss did not improve from 1.87337\n",
      "6475/6475 [==============================] - 5s 709us/sample - loss: 1.3117 - accuracy: 0.5286 - val_loss: 2.1136 - val_accuracy: 0.3264\n",
      "Epoch 27/30\n",
      "6420/6475 [============================>.] - ETA: 0s - loss: 1.2982 - accuracy: 0.5305\n",
      "Epoch 00027: val_loss did not improve from 1.87337\n",
      "6475/6475 [==============================] - 5s 709us/sample - loss: 1.2993 - accuracy: 0.5296 - val_loss: 2.6753 - val_accuracy: 0.2847\n",
      "Epoch 28/30\n",
      "6410/6475 [============================>.] - ETA: 0s - loss: 1.3064 - accuracy: 0.5317\n",
      "Epoch 00028: val_loss did not improve from 1.87337\n",
      "6475/6475 [==============================] - 5s 709us/sample - loss: 1.3051 - accuracy: 0.5314 - val_loss: 2.4636 - val_accuracy: 0.3069\n",
      "Epoch 29/30\n",
      "6400/6475 [============================>.] - ETA: 0s - loss: 1.2891 - accuracy: 0.5430\n",
      "Epoch 00029: val_loss did not improve from 1.87337\n",
      "6475/6475 [==============================] - 5s 709us/sample - loss: 1.2883 - accuracy: 0.5435 - val_loss: 4.0653 - val_accuracy: 0.2097\n",
      "Epoch 30/30\n",
      "6430/6475 [============================>.] - ETA: 0s - loss: 1.2706 - accuracy: 0.5460\n",
      "Epoch 00030: val_loss did not improve from 1.87337\n",
      "6475/6475 [==============================] - 5s 715us/sample - loss: 1.2696 - accuracy: 0.5463 - val_loss: 2.0959 - val_accuracy: 0.3319\n"
     ]
    }
   ],
   "source": [
    "fit = cnn_model.fit(Xs.reshape(-1,308,930,1), Ys_onehot, validation_split=0.1, batch_size=10, epochs=30, verbose=1, callbacks=[MS])"
   ]
  },
  {
   "cell_type": "code",
   "execution_count": 11,
   "metadata": {},
   "outputs": [],
   "source": [
    "def mkTrainingPlots(history):\n",
    "    plt.plot(history.history['accuracy'])\n",
    "    plt.plot(history.history['val_accuracy'])\n",
    "    plt.title('Model accuracy')\n",
    "    plt.ylabel('Accuracy')\n",
    "    plt.xlabel('Epoch')\n",
    "    plt.legend(['Train', 'Validation'], loc='upper left')\n",
    "    plt.show()\n",
    "    \n",
    "    plt.plot(history.history['loss'])\n",
    "    plt.plot(history.history['val_loss'])\n",
    "    plt.title('Model loss')\n",
    "    plt.ylabel('Loss')\n",
    "    plt.xlabel('Epoch')\n",
    "    plt.legend(['Train', 'Valid'], loc='upper left')\n",
    "    plt.show()"
   ]
  },
  {
   "cell_type": "code",
   "execution_count": 91,
   "metadata": {},
   "outputs": [
    {
     "data": {
      "image/png": "[encoded data removed]",
      "text/plain": [
       "<Figure size 432x288 with 1 Axes>"
      ]
     },
     "metadata": {
      "needs_background": "light"
     },
     "output_type": "display_data"
    },
    {
     "data": {
      "image/png": "[encoded data removed]",
      "text/plain": [
       "<Figure size 432x288 with 1 Axes>"
      ]
     },
     "metadata": {
      "needs_background": "light"
     },
     "output_type": "display_data"
    }
   ],
   "source": [
    "mkTrainingPlots(fit)"
   ]
  },
  {
   "cell_type": "code",
   "execution_count": 102,
   "metadata": {},
   "outputs": [],
   "source": [
    "def test_predictions(test_array, model):\n",
    "    Xs = []\n",
    "    Y_actuals = []\n",
    "    for piece in test_array:\n",
    "        image_array = cv2.imread(os.path.join(spectrogram_dir, piece[0]), cv2.IMREAD_GRAYSCALE)\n",
    "        #image_array = cv2.resize(image_array, (250, 700))\n",
    "        Xs.append(image_array)\n",
    "        Y_actuals.append(piece[1])\n",
    "    Xs = np.array(Xs)\n",
    "    Ys = np.array(Y_actuals)\n",
    "    from sklearn import preprocessing\n",
    "    from tensorflow.keras.utils import to_categorical\n",
    "    encoder = preprocessing.LabelEncoder()\n",
    "    encoder.fit(Ys)\n",
    "    encoded_Y = encoder.transform(Y_actuals)\n",
    "    Ys_onehot = to_categorical(encoded_Y)\n",
    "    prediction = model.predict(Xs.reshape(-1, 308, 930, 1))\n",
    "    return prediction"
   ]
  },
  {
   "cell_type": "code",
   "execution_count": 104,
   "metadata": {},
   "outputs": [],
   "source": [
    "p = test_predictions(test, cnn_model)"
   ]
  },
  {
   "cell_type": "code",
   "execution_count": 106,
   "metadata": {},
   "outputs": [
    {
     "data": {
      "text/plain": [
       "array([7.4976915e-01, 9.0957014e-03, 2.1857356e-04, 1.9426036e-01,\n",
       "       5.4442585e-03, 2.0186279e-02, 8.3853761e-03, 1.2640271e-02],\n",
       "      dtype=float32)"
      ]
     },
     "execution_count": 106,
     "metadata": {},
     "output_type": "execute_result"
    }
   ],
   "source": [
    "p[0]"
   ]
  },
  {
   "cell_type": "code",
   "execution_count": null,
   "metadata": {},
   "outputs": [],
   "source": []
  }
 ],
 "metadata": {
  "kernelspec": {
   "display_name": "Python 3",
   "language": "python",
   "name": "python3"
  },
  "language_info": {
   "codemirror_mode": {
    "name": "ipython",
    "version": 3
   },
   "file_extension": ".py",
   "mimetype": "text/x-python",
   "name": "python",
   "nbconvert_exporter": "python",
   "pygments_lexer": "ipython3",
   "version": "3.6.10"
  }
 },
 "nbformat": 4,
 "nbformat_minor": 4
}
