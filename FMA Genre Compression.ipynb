{
 "cells": [
  {
   "cell_type": "code",
   "execution_count": 1,
   "metadata": {},
   "outputs": [],
   "source": [
    "import numpy as np\n",
    "import pandas as pd\n",
    "import os\n",
    "import math"
   ]
  },
  {
   "cell_type": "code",
   "execution_count": 2,
   "metadata": {},
   "outputs": [
    {
     "name": "stdout",
     "output_type": "stream",
     "text": [
      "D:\\Analytics\n"
     ]
    }
   ],
   "source": [
    "cwd = os.getcwd()\n",
    "print(cwd)"
   ]
  },
  {
   "cell_type": "code",
   "execution_count": 3,
   "metadata": {},
   "outputs": [],
   "source": [
    "track_csv = r'D:\\Analytics\\fma_metadata\\raw_tracks.csv'\n",
    "genre_csv = r'D:\\Analytics\\fma_metadata\\genres.csv'\n",
    "tracks = pd.read_csv(track_csv)  # note: this will raise a low_memory warning from Pandas. This warning is meaningless, see: https://stackoverflow.com/questions/24251219/pandas-read-csv-low-memory-and-dtype-options\n",
    "genre_csv = pd.read_csv(genre_csv)"
   ]
  },
  {
   "cell_type": "code",
   "execution_count": 4,
   "metadata": {},
   "outputs": [
    {
     "data": {
      "text/html": [
       "<div>\n",
       "<style scoped>\n",
       "    .dataframe tbody tr th:only-of-type {\n",
       "        vertical-align: middle;\n",
       "    }\n",
       "\n",
       "    .dataframe tbody tr th {\n",
       "        vertical-align: top;\n",
       "    }\n",
       "\n",
       "    .dataframe thead th {\n",
       "        text-align: right;\n",
       "    }\n",
       "</style>\n",
       "<table border=\"1\" class=\"dataframe\">\n",
       "  <thead>\n",
       "    <tr style=\"text-align: right;\">\n",
       "      <th></th>\n",
       "      <th>track_id</th>\n",
       "      <th>album_id</th>\n",
       "      <th>album_title</th>\n",
       "      <th>album_url</th>\n",
       "      <th>artist_id</th>\n",
       "      <th>artist_name</th>\n",
       "      <th>artist_url</th>\n",
       "      <th>artist_website</th>\n",
       "      <th>license_image_file</th>\n",
       "      <th>license_image_file_large</th>\n",
       "      <th>...</th>\n",
       "      <th>track_information</th>\n",
       "      <th>track_instrumental</th>\n",
       "      <th>track_interest</th>\n",
       "      <th>track_language_code</th>\n",
       "      <th>track_listens</th>\n",
       "      <th>track_lyricist</th>\n",
       "      <th>track_number</th>\n",
       "      <th>track_publisher</th>\n",
       "      <th>track_title</th>\n",
       "      <th>track_url</th>\n",
       "    </tr>\n",
       "  </thead>\n",
       "  <tbody>\n",
       "    <tr>\n",
       "      <th>0</th>\n",
       "      <td>2</td>\n",
       "      <td>1.0</td>\n",
       "      <td>AWOL - A Way Of Life</td>\n",
       "      <td>http://freemusicarchive.org/music/AWOL/AWOL_-_...</td>\n",
       "      <td>1</td>\n",
       "      <td>AWOL</td>\n",
       "      <td>http://freemusicarchive.org/music/AWOL/</td>\n",
       "      <td>http://www.AzillionRecords.blogspot.com</td>\n",
       "      <td>http://i.creativecommons.org/l/by-nc-sa/3.0/us...</td>\n",
       "      <td>http://fma-files.s3.amazonaws.com/resources/im...</td>\n",
       "      <td>...</td>\n",
       "      <td>NaN</td>\n",
       "      <td>0</td>\n",
       "      <td>4656</td>\n",
       "      <td>en</td>\n",
       "      <td>1293</td>\n",
       "      <td>NaN</td>\n",
       "      <td>3</td>\n",
       "      <td>NaN</td>\n",
       "      <td>Food</td>\n",
       "      <td>http://freemusicarchive.org/music/AWOL/AWOL_-_...</td>\n",
       "    </tr>\n",
       "    <tr>\n",
       "      <th>1</th>\n",
       "      <td>3</td>\n",
       "      <td>1.0</td>\n",
       "      <td>AWOL - A Way Of Life</td>\n",
       "      <td>http://freemusicarchive.org/music/AWOL/AWOL_-_...</td>\n",
       "      <td>1</td>\n",
       "      <td>AWOL</td>\n",
       "      <td>http://freemusicarchive.org/music/AWOL/</td>\n",
       "      <td>http://www.AzillionRecords.blogspot.com</td>\n",
       "      <td>http://i.creativecommons.org/l/by-nc-sa/3.0/us...</td>\n",
       "      <td>http://fma-files.s3.amazonaws.com/resources/im...</td>\n",
       "      <td>...</td>\n",
       "      <td>NaN</td>\n",
       "      <td>0</td>\n",
       "      <td>1470</td>\n",
       "      <td>en</td>\n",
       "      <td>514</td>\n",
       "      <td>NaN</td>\n",
       "      <td>4</td>\n",
       "      <td>NaN</td>\n",
       "      <td>Electric Ave</td>\n",
       "      <td>http://freemusicarchive.org/music/AWOL/AWOL_-_...</td>\n",
       "    </tr>\n",
       "    <tr>\n",
       "      <th>2</th>\n",
       "      <td>5</td>\n",
       "      <td>1.0</td>\n",
       "      <td>AWOL - A Way Of Life</td>\n",
       "      <td>http://freemusicarchive.org/music/AWOL/AWOL_-_...</td>\n",
       "      <td>1</td>\n",
       "      <td>AWOL</td>\n",
       "      <td>http://freemusicarchive.org/music/AWOL/</td>\n",
       "      <td>http://www.AzillionRecords.blogspot.com</td>\n",
       "      <td>http://i.creativecommons.org/l/by-nc-sa/3.0/us...</td>\n",
       "      <td>http://fma-files.s3.amazonaws.com/resources/im...</td>\n",
       "      <td>...</td>\n",
       "      <td>NaN</td>\n",
       "      <td>0</td>\n",
       "      <td>1933</td>\n",
       "      <td>en</td>\n",
       "      <td>1151</td>\n",
       "      <td>NaN</td>\n",
       "      <td>6</td>\n",
       "      <td>NaN</td>\n",
       "      <td>This World</td>\n",
       "      <td>http://freemusicarchive.org/music/AWOL/AWOL_-_...</td>\n",
       "    </tr>\n",
       "    <tr>\n",
       "      <th>3</th>\n",
       "      <td>10</td>\n",
       "      <td>6.0</td>\n",
       "      <td>Constant Hitmaker</td>\n",
       "      <td>http://freemusicarchive.org/music/Kurt_Vile/Co...</td>\n",
       "      <td>6</td>\n",
       "      <td>Kurt Vile</td>\n",
       "      <td>http://freemusicarchive.org/music/Kurt_Vile/</td>\n",
       "      <td>http://kurtvile.com</td>\n",
       "      <td>http://i.creativecommons.org/l/by-nc-nd/3.0/88...</td>\n",
       "      <td>http://fma-files.s3.amazonaws.com/resources/im...</td>\n",
       "      <td>...</td>\n",
       "      <td>NaN</td>\n",
       "      <td>0</td>\n",
       "      <td>54881</td>\n",
       "      <td>en</td>\n",
       "      <td>50135</td>\n",
       "      <td>NaN</td>\n",
       "      <td>1</td>\n",
       "      <td>NaN</td>\n",
       "      <td>Freeway</td>\n",
       "      <td>http://freemusicarchive.org/music/Kurt_Vile/Co...</td>\n",
       "    </tr>\n",
       "    <tr>\n",
       "      <th>4</th>\n",
       "      <td>20</td>\n",
       "      <td>4.0</td>\n",
       "      <td>Niris</td>\n",
       "      <td>http://freemusicarchive.org/music/Chris_and_Ni...</td>\n",
       "      <td>4</td>\n",
       "      <td>Nicky Cook</td>\n",
       "      <td>http://freemusicarchive.org/music/Chris_and_Ni...</td>\n",
       "      <td>NaN</td>\n",
       "      <td>http://i.creativecommons.org/l/by-nc-nd/3.0/88...</td>\n",
       "      <td>http://fma-files.s3.amazonaws.com/resources/im...</td>\n",
       "      <td>...</td>\n",
       "      <td>NaN</td>\n",
       "      <td>0</td>\n",
       "      <td>978</td>\n",
       "      <td>en</td>\n",
       "      <td>361</td>\n",
       "      <td>NaN</td>\n",
       "      <td>3</td>\n",
       "      <td>NaN</td>\n",
       "      <td>Spiritual Level</td>\n",
       "      <td>http://freemusicarchive.org/music/Chris_and_Ni...</td>\n",
       "    </tr>\n",
       "  </tbody>\n",
       "</table>\n",
       "<p>5 rows × 39 columns</p>\n",
       "</div>"
      ],
      "text/plain": [
       "   track_id  album_id           album_title  \\\n",
       "0         2       1.0  AWOL - A Way Of Life   \n",
       "1         3       1.0  AWOL - A Way Of Life   \n",
       "2         5       1.0  AWOL - A Way Of Life   \n",
       "3        10       6.0     Constant Hitmaker   \n",
       "4        20       4.0                 Niris   \n",
       "\n",
       "                                           album_url  artist_id artist_name  \\\n",
       "0  http://freemusicarchive.org/music/AWOL/AWOL_-_...          1        AWOL   \n",
       "1  http://freemusicarchive.org/music/AWOL/AWOL_-_...          1        AWOL   \n",
       "2  http://freemusicarchive.org/music/AWOL/AWOL_-_...          1        AWOL   \n",
       "3  http://freemusicarchive.org/music/Kurt_Vile/Co...          6   Kurt Vile   \n",
       "4  http://freemusicarchive.org/music/Chris_and_Ni...          4  Nicky Cook   \n",
       "\n",
       "                                          artist_url  \\\n",
       "0            http://freemusicarchive.org/music/AWOL/   \n",
       "1            http://freemusicarchive.org/music/AWOL/   \n",
       "2            http://freemusicarchive.org/music/AWOL/   \n",
       "3       http://freemusicarchive.org/music/Kurt_Vile/   \n",
       "4  http://freemusicarchive.org/music/Chris_and_Ni...   \n",
       "\n",
       "                            artist_website  \\\n",
       "0  http://www.AzillionRecords.blogspot.com   \n",
       "1  http://www.AzillionRecords.blogspot.com   \n",
       "2  http://www.AzillionRecords.blogspot.com   \n",
       "3                      http://kurtvile.com   \n",
       "4                                      NaN   \n",
       "\n",
       "                                  license_image_file  \\\n",
       "0  http://i.creativecommons.org/l/by-nc-sa/3.0/us...   \n",
       "1  http://i.creativecommons.org/l/by-nc-sa/3.0/us...   \n",
       "2  http://i.creativecommons.org/l/by-nc-sa/3.0/us...   \n",
       "3  http://i.creativecommons.org/l/by-nc-nd/3.0/88...   \n",
       "4  http://i.creativecommons.org/l/by-nc-nd/3.0/88...   \n",
       "\n",
       "                            license_image_file_large  ...  track_information  \\\n",
       "0  http://fma-files.s3.amazonaws.com/resources/im...  ...                NaN   \n",
       "1  http://fma-files.s3.amazonaws.com/resources/im...  ...                NaN   \n",
       "2  http://fma-files.s3.amazonaws.com/resources/im...  ...                NaN   \n",
       "3  http://fma-files.s3.amazonaws.com/resources/im...  ...                NaN   \n",
       "4  http://fma-files.s3.amazonaws.com/resources/im...  ...                NaN   \n",
       "\n",
       "  track_instrumental track_interest track_language_code  track_listens  \\\n",
       "0                  0           4656                  en           1293   \n",
       "1                  0           1470                  en            514   \n",
       "2                  0           1933                  en           1151   \n",
       "3                  0          54881                  en          50135   \n",
       "4                  0            978                  en            361   \n",
       "\n",
       "   track_lyricist track_number track_publisher      track_title  \\\n",
       "0             NaN            3             NaN             Food   \n",
       "1             NaN            4             NaN     Electric Ave   \n",
       "2             NaN            6             NaN       This World   \n",
       "3             NaN            1             NaN          Freeway   \n",
       "4             NaN            3             NaN  Spiritual Level   \n",
       "\n",
       "                                           track_url  \n",
       "0  http://freemusicarchive.org/music/AWOL/AWOL_-_...  \n",
       "1  http://freemusicarchive.org/music/AWOL/AWOL_-_...  \n",
       "2  http://freemusicarchive.org/music/AWOL/AWOL_-_...  \n",
       "3  http://freemusicarchive.org/music/Kurt_Vile/Co...  \n",
       "4  http://freemusicarchive.org/music/Chris_and_Ni...  \n",
       "\n",
       "[5 rows x 39 columns]"
      ]
     },
     "execution_count": 4,
     "metadata": {},
     "output_type": "execute_result"
    }
   ],
   "source": [
    "tracks.head()"
   ]
  },
  {
   "cell_type": "code",
   "execution_count": 5,
   "metadata": {},
   "outputs": [
    {
     "data": {
      "text/plain": [
       "0    [{'genre_id': '21', 'genre_title': 'Hip-Hop', ...\n",
       "1    [{'genre_id': '21', 'genre_title': 'Hip-Hop', ...\n",
       "2    [{'genre_id': '21', 'genre_title': 'Hip-Hop', ...\n",
       "3    [{'genre_id': '10', 'genre_title': 'Pop', 'gen...\n",
       "4    [{'genre_id': '76', 'genre_title': 'Experiment...\n",
       "Name: track_genres, dtype: object"
      ]
     },
     "execution_count": 5,
     "metadata": {},
     "output_type": "execute_result"
    }
   ],
   "source": [
    "tracks['track_genres'].head()"
   ]
  },
  {
   "cell_type": "code",
   "execution_count": 6,
   "metadata": {},
   "outputs": [],
   "source": [
    "g_ids = []\n",
    "for genre in tracks['track_genres'].to_list():\n",
    "    try:\n",
    "        s = eval(genre)[0]  # this is pretty dangerous. use w/ caution\n",
    "        g_ids.append(int(s['genre_id']))\n",
    "    except:\n",
    "        g_ids.append('error')"
   ]
  },
  {
   "cell_type": "code",
   "execution_count": 7,
   "metadata": {},
   "outputs": [
    {
     "name": "stdout",
     "output_type": "stream",
     "text": [
      "2609\n"
     ]
    }
   ],
   "source": [
    "errors = [g for g in g_ids if g == 'error']\n",
    "print(len(errors))  # these all have missing genre information. must drop"
   ]
  },
  {
   "cell_type": "code",
   "execution_count": 8,
   "metadata": {},
   "outputs": [
    {
     "name": "stdout",
     "output_type": "stream",
     "text": [
      "['International', 'Blues', 'Jazz', 'Classical', 'Old-Time / Historic', 'Country', 'Pop', 'Rock', 'Easy Listening', 'Soul-RnB', 'Electronic', 'Folk', 'Spoken', 'Hip-Hop', 'Experimental', 'Instrumental']\n",
      "[2, 3, 4, 5, 8, 9, 10, 12, 13, 14, 15, 17, 20, 21, 38, 1235]\n",
      "16 16\n"
     ]
    }
   ],
   "source": [
    "# get only the top-level genres from genre_csv\n",
    "top_genres = []\n",
    "top_genres_id = []\n",
    "genre_id = genre_csv['genre_id'].tolist()\n",
    "title = genre_csv['title'].tolist()\n",
    "top_level = genre_csv['top_level'].tolist()\n",
    "for i in range(len(genre_id)):\n",
    "    if genre_id[i] == top_level[i]:\n",
    "        top_genres.append(title[i])\n",
    "        top_genres_id.append(genre_id[i])\n",
    "print(top_genres)\n",
    "print(top_genres_id)\n",
    "print(len(top_genres), len(top_genres_id))\n",
    "genre_lut = dict(zip(top_genres_id, top_genres))"
   ]
  },
  {
   "cell_type": "code",
   "execution_count": 9,
   "metadata": {},
   "outputs": [],
   "source": [
    "# match genre ids with top level genre names\n",
    "g_top = []\n",
    "for g in g_ids:\n",
    "    if g != 'error':\n",
    "        loc = genre_id.index(g)\n",
    "        top = top_level[loc]\n",
    "        top_name = genre_lut[top]\n",
    "        g_top.append(top_name)\n",
    "    else:\n",
    "        g_top.append('missing')"
   ]
  },
  {
   "cell_type": "code",
   "execution_count": 10,
   "metadata": {},
   "outputs": [],
   "source": [
    "cleaned_genre_dict = {'track id': tracks['track_id'].tolist(), 'genre': g_top}"
   ]
  },
  {
   "cell_type": "code",
   "execution_count": 11,
   "metadata": {},
   "outputs": [],
   "source": [
    "cleaned_genre_output = pd.DataFrame(cleaned_genre_dict)"
   ]
  },
  {
   "cell_type": "code",
   "execution_count": 14,
   "metadata": {},
   "outputs": [
    {
     "data": {
      "text/plain": [
       "array(['Hip-Hop', 'Pop', 'Rock', 'Experimental', 'Folk', 'Jazz',\n",
       "       'Electronic', 'Blues', 'missing', 'Spoken', 'International',\n",
       "       'Soul-RnB', 'Classical', 'Country', 'Easy Listening',\n",
       "       'Old-Time / Historic', 'Instrumental'], dtype=object)"
      ]
     },
     "execution_count": 14,
     "metadata": {},
     "output_type": "execute_result"
    }
   ],
   "source": [
    "cleaned_genre_output.head()\n",
    "cleaned_genre_output.genre.unique()"
   ]
  },
  {
   "cell_type": "code",
   "execution_count": 100,
   "metadata": {},
   "outputs": [],
   "source": [
    "cleaned_genre_output.to_csv(r'D:\\Analytics\\fma_clean_genres.csv')"
   ]
  }
 ],
 "metadata": {
  "kernelspec": {
   "display_name": "Python 3",
   "language": "python",
   "name": "python3"
  },
  "language_info": {
   "codemirror_mode": {
    "name": "ipython",
    "version": 3
   },
   "file_extension": ".py",
   "mimetype": "text/x-python",
   "name": "python",
   "nbconvert_exporter": "python",
   "pygments_lexer": "ipython3",
   "version": "3.6.10"
  }
 },
 "nbformat": 4,
 "nbformat_minor": 4
}
